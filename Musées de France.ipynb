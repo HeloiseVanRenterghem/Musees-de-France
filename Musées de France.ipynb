{
 "cells": [
  {
   "cell_type": "code",
   "execution_count": 30,
   "id": "50a2e49d",
   "metadata": {},
   "outputs": [
    {
     "name": "stdout",
     "output_type": "stream",
     "text": [
      "Voici un aperçu de notre beau DataFrame :\n",
      "\n",
      "           osm_id                                  name number  \\\n",
      "0     4540234591                               3 bis f    109   \n",
      "1     4388745689                      A casa di Losari    NaN   \n",
      "2     4426176194                      À l'homme volant     35   \n",
      "3     7652598615           Abbadiale - Maison des arts    NaN   \n",
      "4      121580330                                Abbaye    NaN   \n",
      "...          ...                                   ...    ...   \n",
      "3779  1348524503                    Vivarium du Moulin    NaN   \n",
      "3780   577287841  Voyage au Temps des impressionnistes    NaN   \n",
      "3781   145062184              Wines and Spirits Museum    NaN   \n",
      "3782    82988725                              Xanxotea    NaN   \n",
      "3783   277107550      Xylotheque - Kiosque Pedagogique    NaN   \n",
      "\n",
      "                          street  postal_code              city country  \\\n",
      "0     Avenue du Petit Barthélémy      13617.0   Aix-en-Provence  France   \n",
      "1                           T 30      20226.0         Belgodère  France   \n",
      "2                     Grande Rue      72300.0  Sablé-sur-Sarthe  France   \n",
      "3                 Rue du Gabizos      65400.0  Arras-en-Lavedan  France   \n",
      "4                Rue de l'Abbaye      39210.0    Château-Chalon  France   \n",
      "...                          ...          ...               ...     ...   \n",
      "3779              Rue Principale      68610.0  Thann-Guebwiller  France   \n",
      "3780                 Rue de Léry      95430.0   Auvers-sur-Oise  France   \n",
      "3781          Corniche Bonaparte      83150.0            Bandol  France   \n",
      "3782                    La Place      64240.0          Isturits  France   \n",
      "3783     Impasse de la Haie Vive      45590.0  Saint-Cyr-en-Val  France   \n",
      "\n",
      "     country_code        lat       lon                    website  \\\n",
      "0              fr  43.521207  5.439875       http://www.3bisf.com   \n",
      "1              fr  42.638732  9.007660                        NaN   \n",
      "2              fr  47.839656 -0.334043                        NaN   \n",
      "3              fr  42.990826 -0.128057  https://www.abbadiale.fr/   \n",
      "4              fr  46.753866  5.624296                        NaN   \n",
      "...           ...        ...       ...                        ...   \n",
      "3779           fr  47.942258  7.149613                        NaN   \n",
      "3780           fr  49.072057  2.166167                        NaN   \n",
      "3781           fr  43.128031  5.749484                        NaN   \n",
      "3782           fr  43.364834 -1.203580   http://www.xanxotea.com/   \n",
      "3783           fr  47.825888  1.967795                        NaN   \n",
      "\n",
      "                  email         phone  fax  \\\n",
      "0     contact@3bisf.com  3.344216e+10  NaN   \n",
      "1                   NaN           NaN  NaN   \n",
      "2                   NaN  3.324395e+10  NaN   \n",
      "3                   NaN  3.363317e+10  NaN   \n",
      "4                   NaN           NaN  NaN   \n",
      "...                 ...           ...  ...   \n",
      "3779                NaN           NaN  NaN   \n",
      "3780                NaN           NaN  NaN   \n",
      "3781                NaN           NaN  NaN   \n",
      "3782                NaN           NaN  NaN   \n",
      "3783                NaN           NaN  NaN   \n",
      "\n",
      "                                         tags  \\\n",
      "0             osm:museum;art:art contemporain   \n",
      "1                                  osm:museum   \n",
      "2     osm:museum;type:centre d'interpretation   \n",
      "3                                  osm:museum   \n",
      "4                 osm:museum;art:architecture   \n",
      "...                                       ...   \n",
      "3779                               osm:museum   \n",
      "3780                               osm:museum   \n",
      "3781                               osm:museum   \n",
      "3782                               osm:museum   \n",
      "3783                               osm:museum   \n",
      "\n",
      "                                            description        date_added  \\\n",
      "0                                                   NaN  44116,0076388889   \n",
      "1                                                   NaN  43338,9393981481   \n",
      "2                                                   NaN  42644,4636574074   \n",
      "3                                                   NaN  44120,0466782407   \n",
      "4                                                   NaN  43102,5491898148   \n",
      "...                                                 ...               ...   \n",
      "3779                                                NaN  40747,8717476852   \n",
      "3780                                                NaN  41141,7272222222   \n",
      "3781                                                NaN  42367,7135069444   \n",
      "3782  Musée ethnographique Xanxotea pour découvrir l...   44129,580775463   \n",
      "3783                                                NaN  43331,4758449074   \n",
      "\n",
      "     wikidata  \n",
      "0         NaN  \n",
      "1         NaN  \n",
      "2         NaN  \n",
      "3         NaN  \n",
      "4         NaN  \n",
      "...       ...  \n",
      "3779      NaN  \n",
      "3780      NaN  \n",
      "3781      NaN  \n",
      "3782      NaN  \n",
      "3783      NaN  \n",
      "\n",
      "[3784 rows x 18 columns]\n"
     ]
    }
   ],
   "source": [
    "import numpy as np\n",
    "import pandas as pd\n",
    "import os\n",
    "\n",
    "df = pd.read_csv(\"musees.csv\", sep=\";\", encoding=\"latin-1\")\n",
    "print(\"Voici un aperçu de notre beau DataFrame :\\n\\n\", df)"
   ]
  },
  {
   "cell_type": "code",
   "execution_count": 17,
   "id": "449c5c1f",
   "metadata": {},
   "outputs": [
    {
     "name": "stdout",
     "output_type": "stream",
     "text": [
      "Il y a 3784 musées en France métropolitaine.\n"
     ]
    }
   ],
   "source": [
    "number_museums = df.shape[0]\n",
    "print(\"Il y a\", number_museums, \"musées en France métropolitaine.\")"
   ]
  },
  {
   "cell_type": "code",
   "execution_count": 25,
   "id": "2db8f78e",
   "metadata": {},
   "outputs": [
    {
     "name": "stdout",
     "output_type": "stream",
     "text": [
      "La ville qui a le plus de musées est Paris.\n"
     ]
    }
   ],
   "source": [
    "city_max_museums = df['city'].mode()\n",
    "print(\"La ville qui a le plus de musées est\", city_max_museums.to_string(index=False) +\".\")"
   ]
  },
  {
   "cell_type": "code",
   "execution_count": 26,
   "id": "54239d9c",
   "metadata": {},
   "outputs": [
    {
     "name": "stdout",
     "output_type": "stream",
     "text": [
      "En effet, Paris possède pas moins de 175 musées !\n"
     ]
    }
   ],
   "source": [
    "nb_museums_paris = df['city'].value_counts()['Paris']\n",
    "print(\"En effet, Paris possède pas moins de\", nb_museums_paris, \"musées !\")"
   ]
  },
  {
   "cell_type": "code",
   "execution_count": 16,
   "id": "91fbe07a",
   "metadata": {},
   "outputs": [
    {
     "name": "stdout",
     "output_type": "stream",
     "text": [
      "Si l'on considère uniquement les villes de France métropolitaine ayant au moins un musée, alors il y a une moyenne de 1.65 musées par ville.\n"
     ]
    }
   ],
   "source": [
    "museums_by_city_mean = df['city'].value_counts().mean()\n",
    "print(\"Si l'on considère uniquement les villes de France métropolitaine ayant au moins un musée, alors il y a une moyenne de\", round(museums_by_city_mean, 2), \"musées par ville.\")"
   ]
  },
  {
   "cell_type": "code",
   "execution_count": 15,
   "id": "bf1e0640",
   "metadata": {},
   "outputs": [
    {
     "name": "stdout",
     "output_type": "stream",
     "text": [
      "Si l'on considère toutes les villes de France métropolitaine (y compris celles qui n'ont pas de musée), alors il y a une moyenne de 0.11 musée par ville.\n"
     ]
    }
   ],
   "source": [
    "museums_by_city_mean_all = number_museums / 34743\n",
    "print(\"Si l'on considère toutes les villes de France métropolitaine (y compris celles qui n'ont pas de musée), alors il y a une moyenne de\", round(museums_by_city_mean_all, 2), \"musée par ville.\")"
   ]
  },
  {
   "cell_type": "code",
   "execution_count": 17,
   "id": "3464aa86",
   "metadata": {},
   "outputs": [
    {
     "name": "stdout",
     "output_type": "stream",
     "text": [
      "Si l'on considère uniquement les villes de France métropolitaine ayant au moins un musée, alors la médiane du nombre de musées est de 1.0 musée par ville.\n"
     ]
    }
   ],
   "source": [
    "museums_by_city_median = df['city'].value_counts().median()\n",
    "print(\"Si l'on considère uniquement les villes de France métropolitaine ayant au moins un musée, alors la médiane du nombre de musées est de\", round(museums_by_city_median, 2), \"musée par ville.\")"
   ]
  },
  {
   "cell_type": "code",
   "execution_count": 2,
   "id": "ac92d13a",
   "metadata": {},
   "outputs": [
    {
     "name": "stdout",
     "output_type": "stream",
     "text": [
      "Sachant qu'il y a 34 743 villes en tout en France métropolitaine, alors il nous faut le nombre de musées dans la ville classée 17 372ème selon le nombre décroissant de musées par ville.\n",
      "Or seules 2295 villes de France métropolitaine ont au moins un musée, le reste n'en ont pas.\n",
      "Si l'on considère toutes les villes de France métropolitaine (y compris celles qui n'ont pas de musée), alors la médiane est de 0.\n"
     ]
    }
   ],
   "source": [
    "import numpy as np\n",
    "import pandas as pd\n",
    "import os\n",
    "\n",
    "df = pd.read_csv(\"musees.csv\", sep=\";\", encoding=\"latin-1\")\n",
    "\n",
    "nb_cities_with_museum = df['city'].value_counts().shape[0]\n",
    "print(\"Sachant qu'il y a 34 743 villes en tout en France métropolitaine, alors il nous faut le nombre de musées dans la ville classée 17 372ème selon le nombre décroissant de musées par ville.\\nOr seules\", nb_cities_with_museum,\"villes de France métropolitaine ont au moins un musée, le reste n'en ont pas.\\nSi l'on considère toutes les villes de France métropolitaine (y compris celles qui n'ont pas de musée), alors la médiane est de 0.\")"
   ]
  },
  {
   "cell_type": "code",
   "execution_count": 99,
   "id": "34af8142",
   "metadata": {},
   "outputs": [
    {
     "name": "stdout",
     "output_type": "stream",
     "text": [
      "Voici la répartition par type des musées de France métropolitaine :\n",
      "\n",
      "                                    repartition\n",
      "type:ecomusee                           27.03%\n",
      "type:musee technique et industriel      14.30%\n",
      "type:musee d'histoire                   10.96%\n",
      "type:musee de beaux-arts                 8.51%\n",
      "type:musee d'art                         7.42%\n",
      "type:musee archeologique                 7.42%\n",
      "type:maison d'artiste                    4.42%\n",
      "type:musee d'arts populaires             3.95%\n",
      "type:musee d'histoire naturelle          3.88%\n",
      "type:centre d'interpretation             3.13%\n",
      "type:musee litteraire                    2.25%\n",
      "type:musee de sciences                   1.57%\n",
      "type:centre d'art                        1.36%\n",
      "type:fondation                           1.23%\n",
      "type:musee d'artiste                     1.02%\n",
      "type:atelier d'artiste                   0.54%\n",
      "type:bibliotheque                        0.27%\n",
      "type:musee ethnographique                0.20%\n",
      "type:musée de beaux-arts                 0.14%\n",
      "type:type:musee d'arts populaires        0.14%\n",
      "type:maison litteraire                   0.07%\n",
      "type:musee d'architecture                0.07%\n",
      "type:ecomuseum                           0.07%\n",
      "type:musee d'art populaire               0.07%\n"
     ]
    }
   ],
   "source": [
    "tags_themes = df['tags']\n",
    "tags_themes = tags_themes.str.split(';')\n",
    "tags_themes = tags_themes.explode()\n",
    "repartition_theme = tags_themes.value_counts().sort_index(ascending=False)\n",
    "repartition_type = repartition_theme.head(24)\n",
    "repartition_type_pct = repartition_type / repartition_type.sum()\n",
    "df_repartition_type_pct = repartition_type_pct.sort_values(ascending=False)\n",
    "df_repartition_type_pct = df_repartition_type_pct.to_frame(name='repartition')\n",
    "df_repartition_type_pct.loc[:, 'repartition'] = df_repartition_type_pct['repartition'].map('{:.2%}'.format)\n",
    "print(\"Voici la répartition par type des musées de France métropolitaine :\\n\\n\", df_repartition_type_pct)"
   ]
  },
  {
   "cell_type": "code",
   "execution_count": 63,
   "id": "9db1af55",
   "metadata": {},
   "outputs": [
    {
     "name": "stdout",
     "output_type": "stream",
     "text": [
      "57 musées ont un nom qui commence par 'Château'.\n"
     ]
    }
   ],
   "source": [
    "nb_chateau = df[\"name\"].str.startswith('Château').value_counts()\n",
    "print(nb_chateau.loc[True], \"musées ont un nom qui commence par 'Château'.\")"
   ]
  },
  {
   "cell_type": "code",
   "execution_count": 70,
   "id": "10f082fa",
   "metadata": {},
   "outputs": [
    {
     "name": "stdout",
     "output_type": "stream",
     "text": [
      "4 musées ont 'Napoléon' dans leur nom.\n",
      "(Et 2 ont 'Bonaparte' !)\n"
     ]
    }
   ],
   "source": [
    "nb_napoleon = df[\"name\"].str.contains('Napoléon').value_counts()\n",
    "nb_bonaparte = df[\"name\"].str.contains('Bonaparte').value_counts()\n",
    "print(nb_napoleon.loc[True], \"musées ont 'Napoléon' dans leur nom.\\n(Et\", nb_bonaparte.loc[True], \"ont 'Bonaparte' !)\")"
   ]
  },
  {
   "cell_type": "code",
   "execution_count": 71,
   "id": "f853879e",
   "metadata": {},
   "outputs": [
    {
     "name": "stdout",
     "output_type": "stream",
     "text": [
      "Nous avons à disposition l'adresse du site web de 1636 musées.\n"
     ]
    }
   ],
   "source": [
    "nb_websites = df.website.notnull().sum()\n",
    "print(\"Nous avons à disposition l'adresse du site web de\", nb_websites, \"musées.\")"
   ]
  },
  {
   "cell_type": "code",
   "execution_count": 132,
   "id": "7b4c942f",
   "metadata": {},
   "outputs": [
    {
     "name": "stdout",
     "output_type": "stream",
     "text": [
      "Le département ayant le plus grand nombre de musées sur son territoire est le département (75,) avec 172 musées.\n",
      "Les départements ayant le plus petit nombre de musées sur leur territoire sont les départements (48,) et (98,) avec 8 musées.\n"
     ]
    }
   ],
   "source": [
    "import math\n",
    "postal_code = df['postal_code'].dropna().div(1000)\n",
    "postal_code = [math.trunc(code) for code in df_postal_code['postal_code']]\n",
    "postal_code_df = pd.DataFrame({'departements':postal_code})\n",
    "#un musée (FLOW) avait un code postal erroné (590007 au lieu de 59000), il faut donc le corriger\n",
    "postal_code_df = postal_code_df.replace([590],59)\n",
    "repartition_departements = postal_code_df.value_counts().to_frame(name='nb_musees')\n",
    "nb_dep_max = repartition_departements.max()\n",
    "nom_dep_max = repartition_departements.idxmax()\n",
    "print(\"Le département ayant le plus grand nombre de musées sur son territoire est le département\", nom_dep_max[0], \"avec\", nb_dep_max[0], \"musées.\")\n",
    "df_dep_min = repartition_departements.where(repartition_departements == repartition_departements.min()).dropna()\n",
    "index = df_dep_min.index\n",
    "nb_dep_min = df_dep_min.iat[0, 0]\n",
    "print(\"Les départements ayant le plus petit nombre de musées sur leur territoire sont les départements\", index[0], \"et\", index[1], \"avec\", int(nb_dep_min), \"musées.\")"
   ]
  },
  {
   "cell_type": "markdown",
   "id": "655ca220",
   "metadata": {},
   "source": [
    "### Recommandation 1) : Ajouter des ratings\n",
    "- <b>Données :</b> nombre d'étoiles sur 5 (5 étant la meilleure note)\n",
    "- <b>Source :</b> Google Maps, Tripadvisor\n",
    "- <b>Apport :</b> permettre au public d'évaluer l'intérêt d'un musée avant toute visite\n",
    "\n",
    "### Recommandation 2) : Identifier les musées nationaux\n",
    "- <b>Données :</b> indiquer si le musée fait partie des musées nationaux (placés sous la tutelle administrative du Service des Musées de France du ministère de la Culture, et caractérisés par la détention, la conservation et la valorisation de collections nationales).\n",
    "- <b>Source :</b> https://www.culture.gouv.fr/Thematiques/Musees/Les-musees-en-France/Les-musees-de-France/Les-musees-nationaux-le-reseau-des-musees-detenteurs-des-collections-nationales\n",
    "- <b>Apport :</b> identifier des musées gratuits pour des publics prioritaires (moins de 18 ans, 18/25 ans ressortissants de l'UE, étudiants en histoire de l'art, personnes handicapées, porteurs d'un Pass éducation...)"
   ]
  },
  {
   "cell_type": "code",
   "execution_count": null,
   "id": "efc4e6fa",
   "metadata": {},
   "outputs": [],
   "source": []
  }
 ],
 "metadata": {
  "kernelspec": {
   "display_name": "Python 3 (ipykernel)",
   "language": "python",
   "name": "python3"
  },
  "language_info": {
   "codemirror_mode": {
    "name": "ipython",
    "version": 3
   },
   "file_extension": ".py",
   "mimetype": "text/x-python",
   "name": "python",
   "nbconvert_exporter": "python",
   "pygments_lexer": "ipython3",
   "version": "3.9.12"
  }
 },
 "nbformat": 4,
 "nbformat_minor": 5
}
